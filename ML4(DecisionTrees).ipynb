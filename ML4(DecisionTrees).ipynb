{
 "cells": [
  {
   "cell_type": "code",
   "execution_count": 1,
   "metadata": {
    "collapsed": true
   },
   "outputs": [],
   "source": [
    "import numpy as np\n",
    "import pandas as pd\n",
    "import matplotlib.pyplot as plt"
   ]
  },
  {
   "cell_type": "code",
   "execution_count": 2,
   "outputs": [
    {
     "data": {
      "text/plain": "  class cap-shape cap-surface cap-color bruises odor gill-attachment  \\\n0     p         x           s         n       t    p               f   \n1     e         x           s         y       t    a               f   \n2     e         b           s         w       t    l               f   \n3     p         x           y         w       t    p               f   \n4     e         x           s         g       f    n               f   \n\n  gill-spacing gill-size gill-color  ... stalk-surface-below-ring  \\\n0            c         n          k  ...                        s   \n1            c         b          k  ...                        s   \n2            c         b          n  ...                        s   \n3            c         n          n  ...                        s   \n4            w         b          k  ...                        s   \n\n  stalk-color-above-ring stalk-color-below-ring veil-type veil-color  \\\n0                      w                      w         p          w   \n1                      w                      w         p          w   \n2                      w                      w         p          w   \n3                      w                      w         p          w   \n4                      w                      w         p          w   \n\n  ring-number ring-type spore-print-color population habitat  \n0           o         p                 k          s       u  \n1           o         p                 n          n       g  \n2           o         p                 n          n       m  \n3           o         p                 k          s       u  \n4           o         e                 n          a       g  \n\n[5 rows x 23 columns]",
      "text/html": "<div>\n<style scoped>\n    .dataframe tbody tr th:only-of-type {\n        vertical-align: middle;\n    }\n\n    .dataframe tbody tr th {\n        vertical-align: top;\n    }\n\n    .dataframe thead th {\n        text-align: right;\n    }\n</style>\n<table border=\"1\" class=\"dataframe\">\n  <thead>\n    <tr style=\"text-align: right;\">\n      <th></th>\n      <th>class</th>\n      <th>cap-shape</th>\n      <th>cap-surface</th>\n      <th>cap-color</th>\n      <th>bruises</th>\n      <th>odor</th>\n      <th>gill-attachment</th>\n      <th>gill-spacing</th>\n      <th>gill-size</th>\n      <th>gill-color</th>\n      <th>...</th>\n      <th>stalk-surface-below-ring</th>\n      <th>stalk-color-above-ring</th>\n      <th>stalk-color-below-ring</th>\n      <th>veil-type</th>\n      <th>veil-color</th>\n      <th>ring-number</th>\n      <th>ring-type</th>\n      <th>spore-print-color</th>\n      <th>population</th>\n      <th>habitat</th>\n    </tr>\n  </thead>\n  <tbody>\n    <tr>\n      <th>0</th>\n      <td>p</td>\n      <td>x</td>\n      <td>s</td>\n      <td>n</td>\n      <td>t</td>\n      <td>p</td>\n      <td>f</td>\n      <td>c</td>\n      <td>n</td>\n      <td>k</td>\n      <td>...</td>\n      <td>s</td>\n      <td>w</td>\n      <td>w</td>\n      <td>p</td>\n      <td>w</td>\n      <td>o</td>\n      <td>p</td>\n      <td>k</td>\n      <td>s</td>\n      <td>u</td>\n    </tr>\n    <tr>\n      <th>1</th>\n      <td>e</td>\n      <td>x</td>\n      <td>s</td>\n      <td>y</td>\n      <td>t</td>\n      <td>a</td>\n      <td>f</td>\n      <td>c</td>\n      <td>b</td>\n      <td>k</td>\n      <td>...</td>\n      <td>s</td>\n      <td>w</td>\n      <td>w</td>\n      <td>p</td>\n      <td>w</td>\n      <td>o</td>\n      <td>p</td>\n      <td>n</td>\n      <td>n</td>\n      <td>g</td>\n    </tr>\n    <tr>\n      <th>2</th>\n      <td>e</td>\n      <td>b</td>\n      <td>s</td>\n      <td>w</td>\n      <td>t</td>\n      <td>l</td>\n      <td>f</td>\n      <td>c</td>\n      <td>b</td>\n      <td>n</td>\n      <td>...</td>\n      <td>s</td>\n      <td>w</td>\n      <td>w</td>\n      <td>p</td>\n      <td>w</td>\n      <td>o</td>\n      <td>p</td>\n      <td>n</td>\n      <td>n</td>\n      <td>m</td>\n    </tr>\n    <tr>\n      <th>3</th>\n      <td>p</td>\n      <td>x</td>\n      <td>y</td>\n      <td>w</td>\n      <td>t</td>\n      <td>p</td>\n      <td>f</td>\n      <td>c</td>\n      <td>n</td>\n      <td>n</td>\n      <td>...</td>\n      <td>s</td>\n      <td>w</td>\n      <td>w</td>\n      <td>p</td>\n      <td>w</td>\n      <td>o</td>\n      <td>p</td>\n      <td>k</td>\n      <td>s</td>\n      <td>u</td>\n    </tr>\n    <tr>\n      <th>4</th>\n      <td>e</td>\n      <td>x</td>\n      <td>s</td>\n      <td>g</td>\n      <td>f</td>\n      <td>n</td>\n      <td>f</td>\n      <td>w</td>\n      <td>b</td>\n      <td>k</td>\n      <td>...</td>\n      <td>s</td>\n      <td>w</td>\n      <td>w</td>\n      <td>p</td>\n      <td>w</td>\n      <td>o</td>\n      <td>e</td>\n      <td>n</td>\n      <td>a</td>\n      <td>g</td>\n    </tr>\n  </tbody>\n</table>\n<p>5 rows × 23 columns</p>\n</div>"
     },
     "execution_count": 2,
     "metadata": {},
     "output_type": "execute_result"
    }
   ],
   "source": [
    "df = pd.read_csv(\"./data/mushrooms.csv\")\n",
    "df.head()"
   ],
   "metadata": {
    "collapsed": false,
    "pycharm": {
     "name": "#%%\n"
    }
   }
  },
  {
   "cell_type": "code",
   "execution_count": 3,
   "outputs": [],
   "source": [
    "columns = df.columns"
   ],
   "metadata": {
    "collapsed": false,
    "pycharm": {
     "name": "#%%\n"
    }
   }
  },
  {
   "cell_type": "code",
   "execution_count": 4,
   "outputs": [
    {
     "name": "stdout",
     "output_type": "stream",
     "text": [
      " class:  ['p' 'e']\n",
      " cap-shape:  ['x' 'b' 's' 'f' 'k' 'c']\n",
      " cap-surface:  ['s' 'y' 'f' 'g']\n",
      " cap-color:  ['n' 'y' 'w' 'g' 'e' 'p' 'b' 'u' 'c' 'r']\n",
      " bruises:  ['t' 'f']\n",
      " odor:  ['p' 'a' 'l' 'n' 'f' 'c' 'y' 's' 'm']\n",
      " gill-attachment:  ['f' 'a']\n",
      " gill-spacing:  ['c' 'w']\n",
      " gill-size:  ['n' 'b']\n",
      " gill-color:  ['k' 'n' 'g' 'p' 'w' 'h' 'u' 'e' 'b' 'r' 'y' 'o']\n",
      " stalk-shape:  ['e' 't']\n",
      " stalk-root:  ['e' 'c' 'b' 'r' '?']\n",
      " stalk-surface-above-ring:  ['s' 'f' 'k' 'y']\n",
      " stalk-surface-below-ring:  ['s' 'f' 'y' 'k']\n",
      " stalk-color-above-ring:  ['w' 'g' 'p' 'n' 'b' 'e' 'o' 'c' 'y']\n",
      " stalk-color-below-ring:  ['w' 'p' 'g' 'b' 'n' 'e' 'y' 'o' 'c']\n",
      " veil-type:  ['p']\n",
      " veil-color:  ['w' 'n' 'o' 'y']\n",
      " ring-number:  ['o' 't' 'n']\n",
      " ring-type:  ['p' 'e' 'l' 'f' 'n']\n",
      " spore-print-color:  ['k' 'n' 'u' 'h' 'w' 'r' 'o' 'y' 'b']\n",
      " population:  ['s' 'n' 'a' 'v' 'y' 'c']\n",
      " habitat:  ['u' 'g' 'm' 'd' 'p' 'w' 'l']\n"
     ]
    }
   ],
   "source": [
    "for column in columns:\n",
    "    print(f\" {column}: \", df[column].unique())"
   ],
   "metadata": {
    "collapsed": false,
    "pycharm": {
     "name": "#%%\n"
    }
   }
  },
  {
   "cell_type": "code",
   "execution_count": 5,
   "outputs": [
    {
     "data": {
      "text/plain": "class                       0\ncap-shape                   0\ncap-surface                 0\ncap-color                   0\nbruises                     0\nodor                        0\ngill-attachment             0\ngill-spacing                0\ngill-size                   0\ngill-color                  0\nstalk-shape                 0\nstalk-root                  0\nstalk-surface-above-ring    0\nstalk-surface-below-ring    0\nstalk-color-above-ring      0\nstalk-color-below-ring      0\nveil-type                   0\nveil-color                  0\nring-number                 0\nring-type                   0\nspore-print-color           0\npopulation                  0\nhabitat                     0\ndtype: int64"
     },
     "execution_count": 5,
     "metadata": {},
     "output_type": "execute_result"
    }
   ],
   "source": [
    "df.isnull().sum()"
   ],
   "metadata": {
    "collapsed": false,
    "pycharm": {
     "name": "#%%\n"
    }
   }
  },
  {
   "cell_type": "code",
   "execution_count": 6,
   "outputs": [
    {
     "data": {
      "text/plain": "class                        2\ncap-shape                    6\ncap-surface                  4\ncap-color                   10\nbruises                      2\nodor                         9\ngill-attachment              2\ngill-spacing                 2\ngill-size                    2\ngill-color                  12\nstalk-shape                  2\nstalk-root                   5\nstalk-surface-above-ring     4\nstalk-surface-below-ring     4\nstalk-color-above-ring       9\nstalk-color-below-ring       9\nveil-type                    1\nveil-color                   4\nring-number                  3\nring-type                    5\nspore-print-color            9\npopulation                   6\nhabitat                      7\ndtype: int64"
     },
     "execution_count": 6,
     "metadata": {},
     "output_type": "execute_result"
    }
   ],
   "source": [
    "df.nunique()"
   ],
   "metadata": {
    "collapsed": false,
    "pycharm": {
     "name": "#%%\n"
    }
   }
  },
  {
   "cell_type": "code",
   "execution_count": 7,
   "outputs": [],
   "source": [
    "df.drop('veil-type', axis=1, inplace=True)"
   ],
   "metadata": {
    "collapsed": false,
    "pycharm": {
     "name": "#%%\n"
    }
   }
  },
  {
   "cell_type": "code",
   "execution_count": 8,
   "outputs": [
    {
     "data": {
      "text/plain": "  class cap-shape cap-surface cap-color bruises odor gill-attachment  \\\n0     p         x           s         n       t    p               f   \n1     e         x           s         y       t    a               f   \n2     e         b           s         w       t    l               f   \n3     p         x           y         w       t    p               f   \n4     e         x           s         g       f    n               f   \n\n  gill-spacing gill-size gill-color  ... stalk-surface-above-ring  \\\n0            c         n          k  ...                        s   \n1            c         b          k  ...                        s   \n2            c         b          n  ...                        s   \n3            c         n          n  ...                        s   \n4            w         b          k  ...                        s   \n\n  stalk-surface-below-ring stalk-color-above-ring stalk-color-below-ring  \\\n0                        s                      w                      w   \n1                        s                      w                      w   \n2                        s                      w                      w   \n3                        s                      w                      w   \n4                        s                      w                      w   \n\n  veil-color ring-number ring-type spore-print-color population habitat  \n0          w           o         p                 k          s       u  \n1          w           o         p                 n          n       g  \n2          w           o         p                 n          n       m  \n3          w           o         p                 k          s       u  \n4          w           o         e                 n          a       g  \n\n[5 rows x 22 columns]",
      "text/html": "<div>\n<style scoped>\n    .dataframe tbody tr th:only-of-type {\n        vertical-align: middle;\n    }\n\n    .dataframe tbody tr th {\n        vertical-align: top;\n    }\n\n    .dataframe thead th {\n        text-align: right;\n    }\n</style>\n<table border=\"1\" class=\"dataframe\">\n  <thead>\n    <tr style=\"text-align: right;\">\n      <th></th>\n      <th>class</th>\n      <th>cap-shape</th>\n      <th>cap-surface</th>\n      <th>cap-color</th>\n      <th>bruises</th>\n      <th>odor</th>\n      <th>gill-attachment</th>\n      <th>gill-spacing</th>\n      <th>gill-size</th>\n      <th>gill-color</th>\n      <th>...</th>\n      <th>stalk-surface-above-ring</th>\n      <th>stalk-surface-below-ring</th>\n      <th>stalk-color-above-ring</th>\n      <th>stalk-color-below-ring</th>\n      <th>veil-color</th>\n      <th>ring-number</th>\n      <th>ring-type</th>\n      <th>spore-print-color</th>\n      <th>population</th>\n      <th>habitat</th>\n    </tr>\n  </thead>\n  <tbody>\n    <tr>\n      <th>0</th>\n      <td>p</td>\n      <td>x</td>\n      <td>s</td>\n      <td>n</td>\n      <td>t</td>\n      <td>p</td>\n      <td>f</td>\n      <td>c</td>\n      <td>n</td>\n      <td>k</td>\n      <td>...</td>\n      <td>s</td>\n      <td>s</td>\n      <td>w</td>\n      <td>w</td>\n      <td>w</td>\n      <td>o</td>\n      <td>p</td>\n      <td>k</td>\n      <td>s</td>\n      <td>u</td>\n    </tr>\n    <tr>\n      <th>1</th>\n      <td>e</td>\n      <td>x</td>\n      <td>s</td>\n      <td>y</td>\n      <td>t</td>\n      <td>a</td>\n      <td>f</td>\n      <td>c</td>\n      <td>b</td>\n      <td>k</td>\n      <td>...</td>\n      <td>s</td>\n      <td>s</td>\n      <td>w</td>\n      <td>w</td>\n      <td>w</td>\n      <td>o</td>\n      <td>p</td>\n      <td>n</td>\n      <td>n</td>\n      <td>g</td>\n    </tr>\n    <tr>\n      <th>2</th>\n      <td>e</td>\n      <td>b</td>\n      <td>s</td>\n      <td>w</td>\n      <td>t</td>\n      <td>l</td>\n      <td>f</td>\n      <td>c</td>\n      <td>b</td>\n      <td>n</td>\n      <td>...</td>\n      <td>s</td>\n      <td>s</td>\n      <td>w</td>\n      <td>w</td>\n      <td>w</td>\n      <td>o</td>\n      <td>p</td>\n      <td>n</td>\n      <td>n</td>\n      <td>m</td>\n    </tr>\n    <tr>\n      <th>3</th>\n      <td>p</td>\n      <td>x</td>\n      <td>y</td>\n      <td>w</td>\n      <td>t</td>\n      <td>p</td>\n      <td>f</td>\n      <td>c</td>\n      <td>n</td>\n      <td>n</td>\n      <td>...</td>\n      <td>s</td>\n      <td>s</td>\n      <td>w</td>\n      <td>w</td>\n      <td>w</td>\n      <td>o</td>\n      <td>p</td>\n      <td>k</td>\n      <td>s</td>\n      <td>u</td>\n    </tr>\n    <tr>\n      <th>4</th>\n      <td>e</td>\n      <td>x</td>\n      <td>s</td>\n      <td>g</td>\n      <td>f</td>\n      <td>n</td>\n      <td>f</td>\n      <td>w</td>\n      <td>b</td>\n      <td>k</td>\n      <td>...</td>\n      <td>s</td>\n      <td>s</td>\n      <td>w</td>\n      <td>w</td>\n      <td>w</td>\n      <td>o</td>\n      <td>e</td>\n      <td>n</td>\n      <td>a</td>\n      <td>g</td>\n    </tr>\n  </tbody>\n</table>\n<p>5 rows × 22 columns</p>\n</div>"
     },
     "execution_count": 8,
     "metadata": {},
     "output_type": "execute_result"
    }
   ],
   "source": [
    "df.head()"
   ],
   "metadata": {
    "collapsed": false,
    "pycharm": {
     "name": "#%%\n"
    }
   }
  },
  {
   "cell_type": "code",
   "execution_count": 9,
   "outputs": [],
   "source": [
    "import  seaborn as sns"
   ],
   "metadata": {
    "collapsed": false,
    "pycharm": {
     "name": "#%%\n"
    }
   }
  },
  {
   "cell_type": "code",
   "execution_count": 10,
   "outputs": [
    {
     "data": {
      "text/plain": "<AxesSubplot:xlabel='cap-color', ylabel='count'>"
     },
     "execution_count": 10,
     "metadata": {},
     "output_type": "execute_result"
    },
    {
     "data": {
      "text/plain": "<Figure size 432x288 with 1 Axes>",
      "image/png": "[encoded data removed]"
     },
     "metadata": {
      "needs_background": "light"
     },
     "output_type": "display_data"
    }
   ],
   "source": [
    "sns.countplot(x = df['cap-color'],  hue=df['class'])"
   ],
   "metadata": {
    "collapsed": false,
    "pycharm": {
     "name": "#%%\n"
    }
   }
  },
  {
   "cell_type": "code",
   "execution_count": 11,
   "outputs": [
    {
     "data": {
      "text/plain": "<AxesSubplot:xlabel='gill-color', ylabel='count'>"
     },
     "execution_count": 11,
     "metadata": {},
     "output_type": "execute_result"
    },
    {
     "data": {
      "text/plain": "<Figure size 432x288 with 1 Axes>",
      "image/png": "[encoded data removed]"
     },
     "metadata": {
      "needs_background": "light"
     },
     "output_type": "display_data"
    }
   ],
   "source": [
    "sns.countplot(x = df['gill-color'],  hue=df['class'])"
   ],
   "metadata": {
    "collapsed": false,
    "pycharm": {
     "name": "#%%\n"
    }
   }
  },
  {
   "cell_type": "code",
   "execution_count": 12,
   "outputs": [
    {
     "data": {
      "text/plain": "cap-color  class\nb          e          48\n           p         120\nc          e          32\n           p          12\ne          e         624\n           p         876\ng          e        1032\n           p         808\nn          e        1264\n           p        1020\np          e          56\n           p          88\nr          e          16\nu          e          16\nw          e         720\n           p         320\ny          e         400\n           p         672\nName: class, dtype: int64"
     },
     "execution_count": 12,
     "metadata": {},
     "output_type": "execute_result"
    }
   ],
   "source": [
    "df[['cap-color','class']].groupby(['cap-color','class'])['class'].count()"
   ],
   "metadata": {
    "collapsed": false,
    "pycharm": {
     "name": "#%%\n"
    }
   }
  },
  {
   "cell_type": "code",
   "execution_count": 13,
   "outputs": [],
   "source": [
    "from sklearn.model_selection import train_test_split\n",
    "from sklearn import tree\n",
    "from sklearn.tree import DecisionTreeClassifier"
   ],
   "metadata": {
    "collapsed": false,
    "pycharm": {
     "name": "#%%\n"
    }
   }
  },
  {
   "cell_type": "code",
   "execution_count": 14,
   "outputs": [],
   "source": [
    "X = df.drop('class', axis=1)\n",
    "y = df['class']"
   ],
   "metadata": {
    "collapsed": false,
    "pycharm": {
     "name": "#%%\n"
    }
   }
  },
  {
   "cell_type": "code",
   "execution_count": 15,
   "outputs": [
    {
     "data": {
      "text/plain": "   cap-shape_b  cap-shape_c  cap-shape_f  cap-shape_k  cap-shape_s  \\\n0            0            0            0            0            0   \n1            0            0            0            0            0   \n2            1            0            0            0            0   \n3            0            0            0            0            0   \n4            0            0            0            0            0   \n\n   cap-shape_x  cap-surface_f  cap-surface_g  cap-surface_s  cap-surface_y  \\\n0            1              0              0              1              0   \n1            1              0              0              1              0   \n2            0              0              0              1              0   \n3            1              0              0              0              1   \n4            1              0              0              1              0   \n\n   ...  population_s  population_v  population_y  habitat_d  habitat_g  \\\n0  ...             1             0             0          0          0   \n1  ...             0             0             0          0          1   \n2  ...             0             0             0          0          0   \n3  ...             1             0             0          0          0   \n4  ...             0             0             0          0          1   \n\n   habitat_l  habitat_m  habitat_p  habitat_u  habitat_w  \n0          0          0          0          1          0  \n1          0          0          0          0          0  \n2          0          1          0          0          0  \n3          0          0          0          1          0  \n4          0          0          0          0          0  \n\n[5 rows x 116 columns]",
      "text/html": "<div>\n<style scoped>\n    .dataframe tbody tr th:only-of-type {\n        vertical-align: middle;\n    }\n\n    .dataframe tbody tr th {\n        vertical-align: top;\n    }\n\n    .dataframe thead th {\n        text-align: right;\n    }\n</style>\n<table border=\"1\" class=\"dataframe\">\n  <thead>\n    <tr style=\"text-align: right;\">\n      <th></th>\n      <th>cap-shape_b</th>\n      <th>cap-shape_c</th>\n      <th>cap-shape_f</th>\n      <th>cap-shape_k</th>\n      <th>cap-shape_s</th>\n      <th>cap-shape_x</th>\n      <th>cap-surface_f</th>\n      <th>cap-surface_g</th>\n      <th>cap-surface_s</th>\n      <th>cap-surface_y</th>\n      <th>...</th>\n      <th>population_s</th>\n      <th>population_v</th>\n      <th>population_y</th>\n      <th>habitat_d</th>\n      <th>habitat_g</th>\n      <th>habitat_l</th>\n      <th>habitat_m</th>\n      <th>habitat_p</th>\n      <th>habitat_u</th>\n      <th>habitat_w</th>\n    </tr>\n  </thead>\n  <tbody>\n    <tr>\n      <th>0</th>\n      <td>0</td>\n      <td>0</td>\n      <td>0</td>\n      <td>0</td>\n      <td>0</td>\n      <td>1</td>\n      <td>0</td>\n      <td>0</td>\n      <td>1</td>\n      <td>0</td>\n      <td>...</td>\n      <td>1</td>\n      <td>0</td>\n      <td>0</td>\n      <td>0</td>\n      <td>0</td>\n      <td>0</td>\n      <td>0</td>\n      <td>0</td>\n      <td>1</td>\n      <td>0</td>\n    </tr>\n    <tr>\n      <th>1</th>\n      <td>0</td>\n      <td>0</td>\n      <td>0</td>\n      <td>0</td>\n      <td>0</td>\n      <td>1</td>\n      <td>0</td>\n      <td>0</td>\n      <td>1</td>\n      <td>0</td>\n      <td>...</td>\n      <td>0</td>\n      <td>0</td>\n      <td>0</td>\n      <td>0</td>\n      <td>1</td>\n      <td>0</td>\n      <td>0</td>\n      <td>0</td>\n      <td>0</td>\n      <td>0</td>\n    </tr>\n    <tr>\n      <th>2</th>\n      <td>1</td>\n      <td>0</td>\n      <td>0</td>\n      <td>0</td>\n      <td>0</td>\n      <td>0</td>\n      <td>0</td>\n      <td>0</td>\n      <td>1</td>\n      <td>0</td>\n      <td>...</td>\n      <td>0</td>\n      <td>0</td>\n      <td>0</td>\n      <td>0</td>\n      <td>0</td>\n      <td>0</td>\n      <td>1</td>\n      <td>0</td>\n      <td>0</td>\n      <td>0</td>\n    </tr>\n    <tr>\n      <th>3</th>\n      <td>0</td>\n      <td>0</td>\n      <td>0</td>\n      <td>0</td>\n      <td>0</td>\n      <td>1</td>\n      <td>0</td>\n      <td>0</td>\n      <td>0</td>\n      <td>1</td>\n      <td>...</td>\n      <td>1</td>\n      <td>0</td>\n      <td>0</td>\n      <td>0</td>\n      <td>0</td>\n      <td>0</td>\n      <td>0</td>\n      <td>0</td>\n      <td>1</td>\n      <td>0</td>\n    </tr>\n    <tr>\n      <th>4</th>\n      <td>0</td>\n      <td>0</td>\n      <td>0</td>\n      <td>0</td>\n      <td>0</td>\n      <td>1</td>\n      <td>0</td>\n      <td>0</td>\n      <td>1</td>\n      <td>0</td>\n      <td>...</td>\n      <td>0</td>\n      <td>0</td>\n      <td>0</td>\n      <td>0</td>\n      <td>1</td>\n      <td>0</td>\n      <td>0</td>\n      <td>0</td>\n      <td>0</td>\n      <td>0</td>\n    </tr>\n  </tbody>\n</table>\n<p>5 rows × 116 columns</p>\n</div>"
     },
     "execution_count": 15,
     "metadata": {},
     "output_type": "execute_result"
    }
   ],
   "source": [
    "X_ohe = pd.get_dummies(X)\n",
    "X_ohe.head()"
   ],
   "metadata": {
    "collapsed": false,
    "pycharm": {
     "name": "#%%\n"
    }
   }
  },
  {
   "cell_type": "code",
   "execution_count": 16,
   "outputs": [
    {
     "data": {
      "text/plain": "(8124, 116)"
     },
     "execution_count": 16,
     "metadata": {},
     "output_type": "execute_result"
    }
   ],
   "source": [
    "X_ohe.shape"
   ],
   "metadata": {
    "collapsed": false,
    "pycharm": {
     "name": "#%%\n"
    }
   }
  },
  {
   "cell_type": "code",
   "execution_count": 17,
   "outputs": [],
   "source": [
    "X_train, X_test, y_train, y_test = train_test_split(X_ohe, y, random_state=101, train_size=0.8)"
   ],
   "metadata": {
    "collapsed": false,
    "pycharm": {
     "name": "#%%\n"
    }
   }
  },
  {
   "cell_type": "code",
   "execution_count": 18,
   "outputs": [],
   "source": [
    "dt_model = DecisionTreeClassifier(criterion='gini', max_depth=5)"
   ],
   "metadata": {
    "collapsed": false,
    "pycharm": {
     "name": "#%%\n"
    }
   }
  },
  {
   "cell_type": "code",
   "execution_count": 19,
   "outputs": [
    {
     "data": {
      "text/plain": "DecisionTreeClassifier(max_depth=5)"
     },
     "execution_count": 19,
     "metadata": {},
     "output_type": "execute_result"
    }
   ],
   "source": [
    "dt_model.fit(X_train,y_train)"
   ],
   "metadata": {
    "collapsed": false,
    "pycharm": {
     "name": "#%%\n"
    }
   }
  },
  {
   "cell_type": "code",
   "execution_count": 20,
   "outputs": [],
   "source": [
    "from sklearn.metrics import confusion_matrix, classification_report"
   ],
   "metadata": {
    "collapsed": false,
    "pycharm": {
     "name": "#%%\n"
    }
   }
  },
  {
   "cell_type": "code",
   "execution_count": 21,
   "outputs": [],
   "source": [
    "y_pred = dt_model.predict(X_test)"
   ],
   "metadata": {
    "collapsed": false,
    "pycharm": {
     "name": "#%%\n"
    }
   }
  },
  {
   "cell_type": "code",
   "execution_count": 22,
   "outputs": [
    {
     "data": {
      "text/plain": "array([[851,   0],\n       [  1, 773]], dtype=int64)"
     },
     "execution_count": 22,
     "metadata": {},
     "output_type": "execute_result"
    }
   ],
   "source": [
    "confusion_matrix(y_test, y_pred)"
   ],
   "metadata": {
    "collapsed": false,
    "pycharm": {
     "name": "#%%\n"
    }
   }
  },
  {
   "cell_type": "code",
   "execution_count": 23,
   "outputs": [
    {
     "name": "stdout",
     "output_type": "stream",
     "text": [
      "              precision    recall  f1-score   support\n",
      "\n",
      "           e       1.00      1.00      1.00       851\n",
      "           p       1.00      1.00      1.00       774\n",
      "\n",
      "    accuracy                           1.00      1625\n",
      "   macro avg       1.00      1.00      1.00      1625\n",
      "weighted avg       1.00      1.00      1.00      1625\n",
      "\n"
     ]
    }
   ],
   "source": [
    "print(classification_report(y_test, y_pred))"
   ],
   "metadata": {
    "collapsed": false,
    "pycharm": {
     "name": "#%%\n"
    }
   }
  },
  {
   "cell_type": "code",
   "execution_count": 24,
   "outputs": [],
   "source": [
    "dt_model_entropy = DecisionTreeClassifier(criterion='entropy', max_depth=4)"
   ],
   "metadata": {
    "collapsed": false,
    "pycharm": {
     "name": "#%%\n"
    }
   }
  },
  {
   "cell_type": "code",
   "execution_count": 25,
   "outputs": [
    {
     "data": {
      "text/plain": "DecisionTreeClassifier(criterion='entropy', max_depth=4)"
     },
     "execution_count": 25,
     "metadata": {},
     "output_type": "execute_result"
    }
   ],
   "source": [
    "dt_model_entropy.fit(X_train,y_train)"
   ],
   "metadata": {
    "collapsed": false,
    "pycharm": {
     "name": "#%%\n"
    }
   }
  },
  {
   "cell_type": "code",
   "execution_count": 26,
   "outputs": [],
   "source": [
    "y_pred = dt_model_entropy.predict(X_test)"
   ],
   "metadata": {
    "collapsed": false,
    "pycharm": {
     "name": "#%%\n"
    }
   }
  },
  {
   "cell_type": "code",
   "execution_count": 27,
   "outputs": [
    {
     "name": "stdout",
     "output_type": "stream",
     "text": [
      "[[834  17]\n",
      " [  1 773]]\n"
     ]
    }
   ],
   "source": [
    "print(confusion_matrix(y_test,y_pred))"
   ],
   "metadata": {
    "collapsed": false,
    "pycharm": {
     "name": "#%%\n"
    }
   }
  },
  {
   "cell_type": "code",
   "execution_count": 28,
   "outputs": [
    {
     "name": "stdout",
     "output_type": "stream",
     "text": [
      "              precision    recall  f1-score   support\n",
      "\n",
      "           e       1.00      0.98      0.99       851\n",
      "           p       0.98      1.00      0.99       774\n",
      "\n",
      "    accuracy                           0.99      1625\n",
      "   macro avg       0.99      0.99      0.99      1625\n",
      "weighted avg       0.99      0.99      0.99      1625\n",
      "\n"
     ]
    }
   ],
   "source": [
    "print(classification_report(y_test, y_pred))"
   ],
   "metadata": {
    "collapsed": false,
    "pycharm": {
     "name": "#%%\n"
    }
   }
  },
  {
   "cell_type": "code",
   "execution_count": 29,
   "outputs": [],
   "source": [
    "import graphviz"
   ],
   "metadata": {
    "collapsed": false,
    "pycharm": {
     "name": "#%%\n"
    }
   }
  },
  {
   "cell_type": "code",
   "execution_count": 30,
   "outputs": [
    {
     "data": {
      "image/svg+xml": "<?xml version=\"1.0\" encoding=\"UTF-8\" standalone=\"no\"?>\n<!DOCTYPE svg PUBLIC \"-//W3C//DTD SVG 1.1//EN\"\n \"http://www.w3.org/Graphics/SVG/1.1/DTD/svg11.dtd\">\n<!-- Generated by graphviz version 3.0.0 (20220226.1711)\n -->\n<!-- Title: Tree Pages: 1 -->\n<svg width=\"813pt\" height=\"477pt\"\n viewBox=\"0.00 0.00 812.50 477.00\" xmlns=\"http://www.w3.org/2000/svg\" xmlns:xlink=\"http://www.w3.org/1999/xlink\">\n<g id=\"graph0\" class=\"graph\" transform=\"scale(1 1) rotate(0) translate(4 473)\">\n<title>Tree</title>\n<polygon fill=\"white\" stroke=\"transparent\" points=\"-4,4 -4,-473 808.5,-473 808.5,4 -4,4\"/>\n<!-- 0 -->\n<g id=\"node1\" class=\"node\">\n<title>0</title>\n<path fill=\"#fdf7f2\" stroke=\"black\" d=\"M456,-469C456,-469 334,-469 334,-469 328,-469 322,-463 322,-457 322,-457 322,-413 322,-413 322,-407 328,-401 334,-401 334,-401 456,-401 456,-401 462,-401 468,-407 468,-413 468,-413 468,-457 468,-457 468,-463 462,-469 456,-469\"/>\n<text text-anchor=\"start\" x=\"354.5\" y=\"-453.8\" font-family=\"Helvetica,sans-Serif\" font-size=\"14.00\">odor_n ≤ 0.5</text>\n<text text-anchor=\"start\" x=\"345\" y=\"-438.8\" font-family=\"Helvetica,sans-Serif\" font-size=\"14.00\">entropy = 0.999</text>\n<text text-anchor=\"start\" x=\"343.5\" y=\"-423.8\" font-family=\"Helvetica,sans-Serif\" font-size=\"14.00\">samples = 6499</text>\n<text text-anchor=\"start\" x=\"330\" y=\"-408.8\" font-family=\"Helvetica,sans-Serif\" font-size=\"14.00\">value = [3357, 3142]</text>\n</g>\n<!-- 1 -->\n<g id=\"node2\" class=\"node\">\n<title>1</title>\n<path fill=\"#62b1ea\" stroke=\"black\" d=\"M356,-365C356,-365 242,-365 242,-365 236,-365 230,-359 230,-353 230,-353 230,-309 230,-309 230,-303 236,-297 242,-297 242,-297 356,-297 356,-297 362,-297 368,-303 368,-309 368,-309 368,-353 368,-353 368,-359 362,-365 356,-365\"/>\n<text text-anchor=\"start\" x=\"252\" y=\"-349.8\" font-family=\"Helvetica,sans-Serif\" font-size=\"14.00\">bruises_t ≤ 0.5</text>\n<text text-anchor=\"start\" x=\"253\" y=\"-334.8\" font-family=\"Helvetica,sans-Serif\" font-size=\"14.00\">entropy = 0.66</text>\n<text text-anchor=\"start\" x=\"247.5\" y=\"-319.8\" font-family=\"Helvetica,sans-Serif\" font-size=\"14.00\">samples = 3685</text>\n<text text-anchor=\"start\" x=\"238\" y=\"-304.8\" font-family=\"Helvetica,sans-Serif\" font-size=\"14.00\">value = [630, 3055]</text>\n</g>\n<!-- 0&#45;&gt;1 -->\n<g id=\"edge1\" class=\"edge\">\n<title>0&#45;&gt;1</title>\n<path fill=\"none\" stroke=\"black\" d=\"M363.83,-400.88C355.36,-391.89 346.1,-382.04 337.29,-372.68\"/>\n<polygon fill=\"black\" stroke=\"black\" points=\"339.74,-370.18 330.34,-365.3 334.65,-374.98 339.74,-370.18\"/>\n<text text-anchor=\"middle\" x=\"329.58\" y=\"-386.59\" font-family=\"Helvetica,sans-Serif\" font-size=\"14.00\">True</text>\n</g>\n<!-- 8 -->\n<g id=\"node9\" class=\"node\">\n<title>8</title>\n<path fill=\"#e6853f\" stroke=\"black\" d=\"M563.5,-365C563.5,-365 418.5,-365 418.5,-365 412.5,-365 406.5,-359 406.5,-353 406.5,-353 406.5,-309 406.5,-309 406.5,-303 412.5,-297 418.5,-297 418.5,-297 563.5,-297 563.5,-297 569.5,-297 575.5,-303 575.5,-309 575.5,-309 575.5,-353 575.5,-353 575.5,-359 569.5,-365 563.5,-365\"/>\n<text text-anchor=\"start\" x=\"414.5\" y=\"-349.8\" font-family=\"Helvetica,sans-Serif\" font-size=\"14.00\">spore&#45;print&#45;color_r ≤ 0.5</text>\n<text text-anchor=\"start\" x=\"441\" y=\"-334.8\" font-family=\"Helvetica,sans-Serif\" font-size=\"14.00\">entropy = 0.199</text>\n<text text-anchor=\"start\" x=\"439.5\" y=\"-319.8\" font-family=\"Helvetica,sans-Serif\" font-size=\"14.00\">samples = 2814</text>\n<text text-anchor=\"start\" x=\"434\" y=\"-304.8\" font-family=\"Helvetica,sans-Serif\" font-size=\"14.00\">value = [2727, 87]</text>\n</g>\n<!-- 0&#45;&gt;8 -->\n<g id=\"edge8\" class=\"edge\">\n<title>0&#45;&gt;8</title>\n<path fill=\"none\" stroke=\"black\" d=\"M426.17,-400.88C434.64,-391.89 443.9,-382.04 452.71,-372.68\"/>\n<polygon fill=\"black\" stroke=\"black\" points=\"455.35,-374.98 459.66,-365.3 450.26,-370.18 455.35,-374.98\"/>\n<text text-anchor=\"middle\" x=\"460.42\" y=\"-386.59\" font-family=\"Helvetica,sans-Serif\" font-size=\"14.00\">False</text>\n</g>\n<!-- 2 -->\n<g id=\"node3\" class=\"node\">\n<title>2</title>\n<path fill=\"#399de5\" stroke=\"black\" d=\"M204,-253.5C204,-253.5 106,-253.5 106,-253.5 100,-253.5 94,-247.5 94,-241.5 94,-241.5 94,-212.5 94,-212.5 94,-206.5 100,-200.5 106,-200.5 106,-200.5 204,-200.5 204,-200.5 210,-200.5 216,-206.5 216,-212.5 216,-212.5 216,-241.5 216,-241.5 216,-247.5 210,-253.5 204,-253.5\"/>\n<text text-anchor=\"start\" x=\"113\" y=\"-238.3\" font-family=\"Helvetica,sans-Serif\" font-size=\"14.00\">entropy = 0.0</text>\n<text text-anchor=\"start\" x=\"103.5\" y=\"-223.3\" font-family=\"Helvetica,sans-Serif\" font-size=\"14.00\">samples = 2617</text>\n<text text-anchor=\"start\" x=\"102\" y=\"-208.3\" font-family=\"Helvetica,sans-Serif\" font-size=\"14.00\">value = [0, 2617]</text>\n</g>\n<!-- 1&#45;&gt;2 -->\n<g id=\"edge2\" class=\"edge\">\n<title>1&#45;&gt;2</title>\n<path fill=\"none\" stroke=\"black\" d=\"M252.25,-296.88C235.32,-284.9 216.27,-271.4 199.54,-259.55\"/>\n<polygon fill=\"black\" stroke=\"black\" points=\"201.21,-256.44 191.03,-253.52 197.17,-262.16 201.21,-256.44\"/>\n</g>\n<!-- 3 -->\n<g id=\"node4\" class=\"node\">\n<title>3</title>\n<path fill=\"#f7d9c3\" stroke=\"black\" d=\"M352,-261C352,-261 246,-261 246,-261 240,-261 234,-255 234,-249 234,-249 234,-205 234,-205 234,-199 240,-193 246,-193 246,-193 352,-193 352,-193 358,-193 364,-199 364,-205 364,-205 364,-249 364,-249 364,-255 358,-261 352,-261\"/>\n<text text-anchor=\"start\" x=\"244.5\" y=\"-245.8\" font-family=\"Helvetica,sans-Serif\" font-size=\"14.00\">stalk&#45;root_c ≤ 0.5</text>\n<text text-anchor=\"start\" x=\"249\" y=\"-230.8\" font-family=\"Helvetica,sans-Serif\" font-size=\"14.00\">entropy = 0.977</text>\n<text text-anchor=\"start\" x=\"247.5\" y=\"-215.8\" font-family=\"Helvetica,sans-Serif\" font-size=\"14.00\">samples = 1068</text>\n<text text-anchor=\"start\" x=\"242\" y=\"-200.8\" font-family=\"Helvetica,sans-Serif\" font-size=\"14.00\">value = [630, 438]</text>\n</g>\n<!-- 1&#45;&gt;3 -->\n<g id=\"edge3\" class=\"edge\">\n<title>1&#45;&gt;3</title>\n<path fill=\"none\" stroke=\"black\" d=\"M299,-296.88C299,-288.78 299,-279.98 299,-271.47\"/>\n<polygon fill=\"black\" stroke=\"black\" points=\"302.5,-271.3 299,-261.3 295.5,-271.3 302.5,-271.3\"/>\n</g>\n<!-- 4 -->\n<g id=\"node5\" class=\"node\">\n<title>4</title>\n<path fill=\"#9dcff2\" stroke=\"black\" d=\"M224,-157C224,-157 118,-157 118,-157 112,-157 106,-151 106,-145 106,-145 106,-101 106,-101 106,-95 112,-89 118,-89 118,-89 224,-89 224,-89 230,-89 236,-95 236,-101 236,-101 236,-145 236,-145 236,-151 230,-157 224,-157\"/>\n<text text-anchor=\"start\" x=\"118\" y=\"-141.8\" font-family=\"Helvetica,sans-Serif\" font-size=\"14.00\">stalk&#45;root_r ≤ 0.5</text>\n<text text-anchor=\"start\" x=\"121\" y=\"-126.8\" font-family=\"Helvetica,sans-Serif\" font-size=\"14.00\">entropy = 0.921</text>\n<text text-anchor=\"start\" x=\"123.5\" y=\"-111.8\" font-family=\"Helvetica,sans-Serif\" font-size=\"14.00\">samples = 660</text>\n<text text-anchor=\"start\" x=\"114\" y=\"-96.8\" font-family=\"Helvetica,sans-Serif\" font-size=\"14.00\">value = [222, 438]</text>\n</g>\n<!-- 3&#45;&gt;4 -->\n<g id=\"edge4\" class=\"edge\">\n<title>3&#45;&gt;4</title>\n<path fill=\"none\" stroke=\"black\" d=\"M257.44,-192.88C245.71,-183.53 232.82,-173.26 220.65,-163.57\"/>\n<polygon fill=\"black\" stroke=\"black\" points=\"222.79,-160.79 212.79,-157.3 218.43,-166.27 222.79,-160.79\"/>\n</g>\n<!-- 7 -->\n<g id=\"node8\" class=\"node\">\n<title>7</title>\n<path fill=\"#e58139\" stroke=\"black\" d=\"M355.5,-149.5C355.5,-149.5 266.5,-149.5 266.5,-149.5 260.5,-149.5 254.5,-143.5 254.5,-137.5 254.5,-137.5 254.5,-108.5 254.5,-108.5 254.5,-102.5 260.5,-96.5 266.5,-96.5 266.5,-96.5 355.5,-96.5 355.5,-96.5 361.5,-96.5 367.5,-102.5 367.5,-108.5 367.5,-108.5 367.5,-137.5 367.5,-137.5 367.5,-143.5 361.5,-149.5 355.5,-149.5\"/>\n<text text-anchor=\"start\" x=\"269\" y=\"-134.3\" font-family=\"Helvetica,sans-Serif\" font-size=\"14.00\">entropy = 0.0</text>\n<text text-anchor=\"start\" x=\"263.5\" y=\"-119.3\" font-family=\"Helvetica,sans-Serif\" font-size=\"14.00\">samples = 408</text>\n<text text-anchor=\"start\" x=\"262.5\" y=\"-104.3\" font-family=\"Helvetica,sans-Serif\" font-size=\"14.00\">value = [408, 0]</text>\n</g>\n<!-- 3&#45;&gt;7 -->\n<g id=\"edge7\" class=\"edge\">\n<title>3&#45;&gt;7</title>\n<path fill=\"none\" stroke=\"black\" d=\"M302.9,-192.88C304.15,-182.22 305.55,-170.35 306.82,-159.52\"/>\n<polygon fill=\"black\" stroke=\"black\" points=\"310.31,-159.86 308,-149.52 303.35,-159.04 310.31,-159.86\"/>\n</g>\n<!-- 5 -->\n<g id=\"node6\" class=\"node\">\n<title>5</title>\n<path fill=\"#5dafea\" stroke=\"black\" d=\"M110,-53C110,-53 12,-53 12,-53 6,-53 0,-47 0,-41 0,-41 0,-12 0,-12 0,-6 6,0 12,0 12,0 110,0 110,0 116,0 122,-6 122,-12 122,-12 122,-41 122,-41 122,-47 116,-53 110,-53\"/>\n<text text-anchor=\"start\" x=\"11\" y=\"-37.8\" font-family=\"Helvetica,sans-Serif\" font-size=\"14.00\">entropy = 0.617</text>\n<text text-anchor=\"start\" x=\"13.5\" y=\"-22.8\" font-family=\"Helvetica,sans-Serif\" font-size=\"14.00\">samples = 517</text>\n<text text-anchor=\"start\" x=\"8\" y=\"-7.8\" font-family=\"Helvetica,sans-Serif\" font-size=\"14.00\">value = [79, 438]</text>\n</g>\n<!-- 4&#45;&gt;5 -->\n<g id=\"edge5\" class=\"edge\">\n<title>4&#45;&gt;5</title>\n<path fill=\"none\" stroke=\"black\" d=\"M132.53,-88.95C121.56,-79.53 109.62,-69.27 98.7,-59.89\"/>\n<polygon fill=\"black\" stroke=\"black\" points=\"100.82,-57.1 90.96,-53.24 96.26,-62.41 100.82,-57.1\"/>\n</g>\n<!-- 6 -->\n<g id=\"node7\" class=\"node\">\n<title>6</title>\n<path fill=\"#e58139\" stroke=\"black\" d=\"M241.5,-53C241.5,-53 152.5,-53 152.5,-53 146.5,-53 140.5,-47 140.5,-41 140.5,-41 140.5,-12 140.5,-12 140.5,-6 146.5,0 152.5,0 152.5,0 241.5,0 241.5,0 247.5,0 253.5,-6 253.5,-12 253.5,-12 253.5,-41 253.5,-41 253.5,-47 247.5,-53 241.5,-53\"/>\n<text text-anchor=\"start\" x=\"155\" y=\"-37.8\" font-family=\"Helvetica,sans-Serif\" font-size=\"14.00\">entropy = 0.0</text>\n<text text-anchor=\"start\" x=\"149.5\" y=\"-22.8\" font-family=\"Helvetica,sans-Serif\" font-size=\"14.00\">samples = 143</text>\n<text text-anchor=\"start\" x=\"148.5\" y=\"-7.8\" font-family=\"Helvetica,sans-Serif\" font-size=\"14.00\">value = [143, 0]</text>\n</g>\n<!-- 4&#45;&gt;6 -->\n<g id=\"edge6\" class=\"edge\">\n<title>4&#45;&gt;6</title>\n<path fill=\"none\" stroke=\"black\" d=\"M180.09,-88.95C182.41,-80.53 184.91,-71.45 187.25,-62.92\"/>\n<polygon fill=\"black\" stroke=\"black\" points=\"190.64,-63.81 189.92,-53.24 183.89,-61.95 190.64,-63.81\"/>\n</g>\n<!-- 9 -->\n<g id=\"node10\" class=\"node\">\n<title>9</title>\n<path fill=\"#e5833c\" stroke=\"black\" d=\"M587.5,-261C587.5,-261 394.5,-261 394.5,-261 388.5,-261 382.5,-255 382.5,-249 382.5,-249 382.5,-205 382.5,-205 382.5,-199 388.5,-193 394.5,-193 394.5,-193 587.5,-193 587.5,-193 593.5,-193 599.5,-199 599.5,-205 599.5,-205 599.5,-249 599.5,-249 599.5,-255 593.5,-261 587.5,-261\"/>\n<text text-anchor=\"start\" x=\"390.5\" y=\"-245.8\" font-family=\"Helvetica,sans-Serif\" font-size=\"14.00\">stalk&#45;surface&#45;below&#45;ring_y ≤ 0.5</text>\n<text text-anchor=\"start\" x=\"441\" y=\"-230.8\" font-family=\"Helvetica,sans-Serif\" font-size=\"14.00\">entropy = 0.109</text>\n<text text-anchor=\"start\" x=\"439.5\" y=\"-215.8\" font-family=\"Helvetica,sans-Serif\" font-size=\"14.00\">samples = 2767</text>\n<text text-anchor=\"start\" x=\"434\" y=\"-200.8\" font-family=\"Helvetica,sans-Serif\" font-size=\"14.00\">value = [2727, 40]</text>\n</g>\n<!-- 8&#45;&gt;9 -->\n<g id=\"edge9\" class=\"edge\">\n<title>8&#45;&gt;9</title>\n<path fill=\"none\" stroke=\"black\" d=\"M491,-296.88C491,-288.78 491,-279.98 491,-271.47\"/>\n<polygon fill=\"black\" stroke=\"black\" points=\"494.5,-271.3 491,-261.3 487.5,-271.3 494.5,-271.3\"/>\n</g>\n<!-- 16 -->\n<g id=\"node17\" class=\"node\">\n<title>16</title>\n<path fill=\"#399de5\" stroke=\"black\" d=\"M710.5,-253.5C710.5,-253.5 629.5,-253.5 629.5,-253.5 623.5,-253.5 617.5,-247.5 617.5,-241.5 617.5,-241.5 617.5,-212.5 617.5,-212.5 617.5,-206.5 623.5,-200.5 629.5,-200.5 629.5,-200.5 710.5,-200.5 710.5,-200.5 716.5,-200.5 722.5,-206.5 722.5,-212.5 722.5,-212.5 722.5,-241.5 722.5,-241.5 722.5,-247.5 716.5,-253.5 710.5,-253.5\"/>\n<text text-anchor=\"start\" x=\"628\" y=\"-238.3\" font-family=\"Helvetica,sans-Serif\" font-size=\"14.00\">entropy = 0.0</text>\n<text text-anchor=\"start\" x=\"626.5\" y=\"-223.3\" font-family=\"Helvetica,sans-Serif\" font-size=\"14.00\">samples = 47</text>\n<text text-anchor=\"start\" x=\"625.5\" y=\"-208.3\" font-family=\"Helvetica,sans-Serif\" font-size=\"14.00\">value = [0, 47]</text>\n</g>\n<!-- 8&#45;&gt;16 -->\n<g id=\"edge16\" class=\"edge\">\n<title>8&#45;&gt;16</title>\n<path fill=\"none\" stroke=\"black\" d=\"M549.12,-296.88C570.73,-284.57 595.15,-270.65 616.34,-258.57\"/>\n<polygon fill=\"black\" stroke=\"black\" points=\"618.26,-261.51 625.22,-253.52 614.79,-255.43 618.26,-261.51\"/>\n</g>\n<!-- 10 -->\n<g id=\"node11\" class=\"node\">\n<title>10</title>\n<path fill=\"#e58139\" stroke=\"black\" d=\"M539.5,-157C539.5,-157 420.5,-157 420.5,-157 414.5,-157 408.5,-151 408.5,-145 408.5,-145 408.5,-101 408.5,-101 408.5,-95 414.5,-89 420.5,-89 420.5,-89 539.5,-89 539.5,-89 545.5,-89 551.5,-95 551.5,-101 551.5,-101 551.5,-145 551.5,-145 551.5,-151 545.5,-157 539.5,-157\"/>\n<text text-anchor=\"start\" x=\"416.5\" y=\"-141.8\" font-family=\"Helvetica,sans-Serif\" font-size=\"14.00\">cap&#45;surface_g ≤ 0.5</text>\n<text text-anchor=\"start\" x=\"430\" y=\"-126.8\" font-family=\"Helvetica,sans-Serif\" font-size=\"14.00\">entropy = 0.023</text>\n<text text-anchor=\"start\" x=\"428.5\" y=\"-111.8\" font-family=\"Helvetica,sans-Serif\" font-size=\"14.00\">samples = 2720</text>\n<text text-anchor=\"start\" x=\"427\" y=\"-96.8\" font-family=\"Helvetica,sans-Serif\" font-size=\"14.00\">value = [2714, 6]</text>\n</g>\n<!-- 9&#45;&gt;10 -->\n<g id=\"edge10\" class=\"edge\">\n<title>9&#45;&gt;10</title>\n<path fill=\"none\" stroke=\"black\" d=\"M487.43,-192.88C486.55,-184.78 485.61,-175.98 484.69,-167.47\"/>\n<polygon fill=\"black\" stroke=\"black\" points=\"488.14,-166.87 483.59,-157.3 481.18,-167.62 488.14,-166.87\"/>\n</g>\n<!-- 13 -->\n<g id=\"node14\" class=\"node\">\n<title>13</title>\n<path fill=\"#85c2ef\" stroke=\"black\" d=\"M702,-157C702,-157 582,-157 582,-157 576,-157 570,-151 570,-145 570,-145 570,-101 570,-101 570,-95 576,-89 582,-89 582,-89 702,-89 702,-89 708,-89 714,-95 714,-101 714,-101 714,-145 714,-145 714,-151 708,-157 702,-157\"/>\n<text text-anchor=\"start\" x=\"578\" y=\"-141.8\" font-family=\"Helvetica,sans-Serif\" font-size=\"14.00\">ring&#45;number_o ≤ 0.5</text>\n<text text-anchor=\"start\" x=\"592\" y=\"-126.8\" font-family=\"Helvetica,sans-Serif\" font-size=\"14.00\">entropy = 0.851</text>\n<text text-anchor=\"start\" x=\"598.5\" y=\"-111.8\" font-family=\"Helvetica,sans-Serif\" font-size=\"14.00\">samples = 47</text>\n<text text-anchor=\"start\" x=\"593.5\" y=\"-96.8\" font-family=\"Helvetica,sans-Serif\" font-size=\"14.00\">value = [13, 34]</text>\n</g>\n<!-- 9&#45;&gt;13 -->\n<g id=\"edge13\" class=\"edge\">\n<title>9&#45;&gt;13</title>\n<path fill=\"none\" stroke=\"black\" d=\"M540.03,-192.88C554.21,-183.3 569.82,-172.76 584.47,-162.86\"/>\n<polygon fill=\"black\" stroke=\"black\" points=\"586.63,-165.62 592.96,-157.12 582.72,-159.82 586.63,-165.62\"/>\n</g>\n<!-- 11 -->\n<g id=\"node12\" class=\"node\">\n<title>11</title>\n<path fill=\"#e58139\" stroke=\"black\" d=\"M413,-53C413,-53 315,-53 315,-53 309,-53 303,-47 303,-41 303,-41 303,-12 303,-12 303,-6 309,0 315,0 315,0 413,0 413,0 419,0 425,-6 425,-12 425,-12 425,-41 425,-41 425,-47 419,-53 413,-53\"/>\n<text text-anchor=\"start\" x=\"314\" y=\"-37.8\" font-family=\"Helvetica,sans-Serif\" font-size=\"14.00\">entropy = 0.012</text>\n<text text-anchor=\"start\" x=\"312.5\" y=\"-22.8\" font-family=\"Helvetica,sans-Serif\" font-size=\"14.00\">samples = 2717</text>\n<text text-anchor=\"start\" x=\"311\" y=\"-7.8\" font-family=\"Helvetica,sans-Serif\" font-size=\"14.00\">value = [2714, 3]</text>\n</g>\n<!-- 10&#45;&gt;11 -->\n<g id=\"edge11\" class=\"edge\">\n<title>10&#45;&gt;11</title>\n<path fill=\"none\" stroke=\"black\" d=\"M439.43,-88.95C427.75,-79.43 415.03,-69.07 403.42,-59.62\"/>\n<polygon fill=\"black\" stroke=\"black\" points=\"405.56,-56.84 395.59,-53.24 401.13,-62.27 405.56,-56.84\"/>\n</g>\n<!-- 12 -->\n<g id=\"node13\" class=\"node\">\n<title>12</title>\n<path fill=\"#399de5\" stroke=\"black\" d=\"M531,-53C531,-53 455,-53 455,-53 449,-53 443,-47 443,-41 443,-41 443,-12 443,-12 443,-6 449,0 455,0 455,0 531,0 531,0 537,0 543,-6 543,-12 543,-12 543,-41 543,-41 543,-47 537,-53 531,-53\"/>\n<text text-anchor=\"start\" x=\"451\" y=\"-37.8\" font-family=\"Helvetica,sans-Serif\" font-size=\"14.00\">entropy = 0.0</text>\n<text text-anchor=\"start\" x=\"453.5\" y=\"-22.8\" font-family=\"Helvetica,sans-Serif\" font-size=\"14.00\">samples = 3</text>\n<text text-anchor=\"start\" x=\"452.5\" y=\"-7.8\" font-family=\"Helvetica,sans-Serif\" font-size=\"14.00\">value = [0, 3]</text>\n</g>\n<!-- 10&#45;&gt;12 -->\n<g id=\"edge12\" class=\"edge\">\n<title>10&#45;&gt;12</title>\n<path fill=\"none\" stroke=\"black\" d=\"M484.55,-88.95C485.69,-80.62 486.93,-71.65 488.09,-63.2\"/>\n<polygon fill=\"black\" stroke=\"black\" points=\"491.56,-63.62 489.46,-53.24 484.63,-62.67 491.56,-63.62\"/>\n</g>\n<!-- 14 -->\n<g id=\"node15\" class=\"node\">\n<title>14</title>\n<path fill=\"#e58139\" stroke=\"black\" d=\"M669.5,-53C669.5,-53 588.5,-53 588.5,-53 582.5,-53 576.5,-47 576.5,-41 576.5,-41 576.5,-12 576.5,-12 576.5,-6 582.5,0 588.5,0 588.5,0 669.5,0 669.5,0 675.5,0 681.5,-6 681.5,-12 681.5,-12 681.5,-41 681.5,-41 681.5,-47 675.5,-53 669.5,-53\"/>\n<text text-anchor=\"start\" x=\"587\" y=\"-37.8\" font-family=\"Helvetica,sans-Serif\" font-size=\"14.00\">entropy = 0.0</text>\n<text text-anchor=\"start\" x=\"585.5\" y=\"-22.8\" font-family=\"Helvetica,sans-Serif\" font-size=\"14.00\">samples = 13</text>\n<text text-anchor=\"start\" x=\"584.5\" y=\"-7.8\" font-family=\"Helvetica,sans-Serif\" font-size=\"14.00\">value = [13, 0]</text>\n</g>\n<!-- 13&#45;&gt;14 -->\n<g id=\"edge14\" class=\"edge\">\n<title>13&#45;&gt;14</title>\n<path fill=\"none\" stroke=\"black\" d=\"M637.45,-88.95C636.31,-80.62 635.07,-71.65 633.91,-63.2\"/>\n<polygon fill=\"black\" stroke=\"black\" points=\"637.37,-62.67 632.54,-53.24 630.44,-63.62 637.37,-62.67\"/>\n</g>\n<!-- 15 -->\n<g id=\"node16\" class=\"node\">\n<title>15</title>\n<path fill=\"#399de5\" stroke=\"black\" d=\"M792.5,-53C792.5,-53 711.5,-53 711.5,-53 705.5,-53 699.5,-47 699.5,-41 699.5,-41 699.5,-12 699.5,-12 699.5,-6 705.5,0 711.5,0 711.5,0 792.5,0 792.5,0 798.5,0 804.5,-6 804.5,-12 804.5,-12 804.5,-41 804.5,-41 804.5,-47 798.5,-53 792.5,-53\"/>\n<text text-anchor=\"start\" x=\"710\" y=\"-37.8\" font-family=\"Helvetica,sans-Serif\" font-size=\"14.00\">entropy = 0.0</text>\n<text text-anchor=\"start\" x=\"708.5\" y=\"-22.8\" font-family=\"Helvetica,sans-Serif\" font-size=\"14.00\">samples = 34</text>\n<text text-anchor=\"start\" x=\"707.5\" y=\"-7.8\" font-family=\"Helvetica,sans-Serif\" font-size=\"14.00\">value = [0, 34]</text>\n</g>\n<!-- 13&#45;&gt;15 -->\n<g id=\"edge15\" class=\"edge\">\n<title>13&#45;&gt;15</title>\n<path fill=\"none\" stroke=\"black\" d=\"M680.47,-88.95C691.44,-79.53 703.38,-69.27 714.3,-59.89\"/>\n<polygon fill=\"black\" stroke=\"black\" points=\"716.74,-62.41 722.04,-53.24 712.18,-57.1 716.74,-62.41\"/>\n</g>\n</g>\n</svg>\n",
      "text/plain": "<graphviz.sources.Source at 0x14532f19870>"
     },
     "execution_count": 30,
     "metadata": {},
     "output_type": "execute_result"
    }
   ],
   "source": [
    "dot_data = tree.export_graphviz(dt_model_entropy, out_file=None,\n",
    "                                feature_names=X_test.columns,\n",
    "                               filled=True, rounded=True,\n",
    "                               special_characters=True)\n",
    "graph = graphviz.Source(dot_data)\n",
    "graph"
   ],
   "metadata": {
    "collapsed": false,
    "pycharm": {
     "name": "#%%\n"
    }
   }
  },
  {
   "cell_type": "code",
   "execution_count": 31,
   "outputs": [
    {
     "data": {
      "text/plain": "DecisionTreeClassifier(criterion='entropy', max_depth=2)"
     },
     "execution_count": 31,
     "metadata": {},
     "output_type": "execute_result"
    }
   ],
   "source": [
    "dt_model_entropy_2 = DecisionTreeClassifier(criterion='entropy', max_depth=2)\n",
    "dt_model_entropy_2.fit(X_train,y_train)"
   ],
   "metadata": {
    "collapsed": false,
    "pycharm": {
     "name": "#%%\n"
    }
   }
  },
  {
   "cell_type": "code",
   "execution_count": 32,
   "outputs": [],
   "source": [
    "y_pred = dt_model_entropy_2.predict(X_test)"
   ],
   "metadata": {
    "collapsed": false,
    "pycharm": {
     "name": "#%%\n"
    }
   }
  },
  {
   "cell_type": "code",
   "execution_count": 33,
   "outputs": [
    {
     "name": "stdout",
     "output_type": "stream",
     "text": [
      "              precision    recall  f1-score   support\n",
      "\n",
      "           e       0.88      1.00      0.94       851\n",
      "           p       1.00      0.85      0.92       774\n",
      "\n",
      "    accuracy                           0.93      1625\n",
      "   macro avg       0.94      0.93      0.93      1625\n",
      "weighted avg       0.94      0.93      0.93      1625\n",
      "\n"
     ]
    }
   ],
   "source": [
    "print(classification_report(y_test,y_pred))"
   ],
   "metadata": {
    "collapsed": false,
    "pycharm": {
     "name": "#%%\n"
    }
   }
  },
  {
   "cell_type": "code",
   "execution_count": 34,
   "outputs": [],
   "source": [
    "from sklearn.ensemble import RandomForestClassifier"
   ],
   "metadata": {
    "collapsed": false,
    "pycharm": {
     "name": "#%%\n"
    }
   }
  },
  {
   "cell_type": "code",
   "execution_count": 42,
   "outputs": [],
   "source": [
    "rf_model = RandomForestClassifier(n_estimators=150, criterion='gini', max_depth=2, min_samples_split=3, random_state=101)"
   ],
   "metadata": {
    "collapsed": false,
    "pycharm": {
     "name": "#%%\n"
    }
   }
  },
  {
   "cell_type": "code",
   "execution_count": 43,
   "outputs": [
    {
     "data": {
      "text/plain": "RandomForestClassifier(max_depth=2, min_samples_split=3, n_estimators=150,\n                       random_state=101)"
     },
     "execution_count": 43,
     "metadata": {},
     "output_type": "execute_result"
    }
   ],
   "source": [
    "rf_model.fit(X_train,y_train)"
   ],
   "metadata": {
    "collapsed": false,
    "pycharm": {
     "name": "#%%\n"
    }
   }
  },
  {
   "cell_type": "code",
   "execution_count": 44,
   "outputs": [
    {
     "name": "stdout",
     "output_type": "stream",
     "text": [
      "              precision    recall  f1-score   support\n",
      "\n",
      "           e       0.89      0.99      0.94       851\n",
      "           p       0.99      0.86      0.92       774\n",
      "\n",
      "    accuracy                           0.93      1625\n",
      "   macro avg       0.94      0.93      0.93      1625\n",
      "weighted avg       0.94      0.93      0.93      1625\n",
      "\n"
     ]
    }
   ],
   "source": [
    "y_pred = rf_model.predict(X_test)\n",
    "print(classification_report(y_test,y_pred))"
   ],
   "metadata": {
    "collapsed": false,
    "pycharm": {
     "name": "#%%\n"
    }
   }
  },
  {
   "cell_type": "code",
   "execution_count": 53,
   "outputs": [],
   "source": [
    " from sklearn.model_selection import GridSearchCV"
   ],
   "metadata": {
    "collapsed": false,
    "pycharm": {
     "name": "#%%\n"
    }
   }
  },
  {
   "cell_type": "code",
   "execution_count": 71,
   "outputs": [],
   "source": [
    "classifier = RandomForestClassifier()\n",
    "parameters = {\n",
    "    'n_estimators':[10,25,50,100],\n",
    "    'max_depth': [2,3,4],\n",
    "    'criterion': ('gini','entropy')\n",
    "}\n",
    "gsearch = GridSearchCV(classifier, parameters,scoring='accuracy')"
   ],
   "metadata": {
    "collapsed": false,
    "pycharm": {
     "name": "#%%\n"
    }
   }
  },
  {
   "cell_type": "code",
   "execution_count": 72,
   "outputs": [
    {
     "data": {
      "text/plain": "GridSearchCV(estimator=RandomForestClassifier(),\n             param_grid={'criterion': ('gini', 'entropy'),\n                         'max_depth': [2, 3, 4],\n                         'n_estimators': [10, 25, 50, 100]},\n             scoring='accuracy')"
     },
     "execution_count": 72,
     "metadata": {},
     "output_type": "execute_result"
    }
   ],
   "source": [
    "gsearch.fit(X_train,y_train)"
   ],
   "metadata": {
    "collapsed": false,
    "pycharm": {
     "name": "#%%\n"
    }
   }
  },
  {
   "cell_type": "code",
   "execution_count": 73,
   "outputs": [
    {
     "data": {
      "text/plain": "RandomForestClassifier(max_depth=4, n_estimators=50)"
     },
     "execution_count": 73,
     "metadata": {},
     "output_type": "execute_result"
    }
   ],
   "source": [
    "model = gsearch.best_estimator_\n",
    "model"
   ],
   "metadata": {
    "collapsed": false,
    "pycharm": {
     "name": "#%%\n"
    }
   }
  },
  {
   "cell_type": "code",
   "execution_count": 74,
   "outputs": [
    {
     "data": {
      "text/plain": "'gini'"
     },
     "execution_count": 74,
     "metadata": {},
     "output_type": "execute_result"
    }
   ],
   "source": [
    "model.criterion"
   ],
   "metadata": {
    "collapsed": false,
    "pycharm": {
     "name": "#%%\n"
    }
   }
  }
 ],
 "metadata": {
  "kernelspec": {
   "display_name": "Python 3",
   "language": "python",
   "name": "python3"
  },
  "language_info": {
   "codemirror_mode": {
    "name": "ipython",
    "version": 2
   },
   "file_extension": ".py",
   "mimetype": "text/x-python",
   "name": "python",
   "nbconvert_exporter": "python",
   "pygments_lexer": "ipython2",
   "version": "2.7.6"
  }
 },
 "nbformat": 4,
 "nbformat_minor": 0
}